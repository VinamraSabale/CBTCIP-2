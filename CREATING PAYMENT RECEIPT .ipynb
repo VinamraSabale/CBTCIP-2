{
 "cells": [
  {
   "cell_type": "code",
   "execution_count": null,
   "id": "cbf91d89",
   "metadata": {},
   "outputs": [],
   "source": [
    "from reportlab.lib.pagesizes import letter\n",
    "from reportlab.pdfgen import canvas\n",
    "import os\n",
    "\n",
    "def generate_receipt():\n",
    "    # Gather payment details from the user\n",
    "    customer_name = input(\"Enter customer name: \")\n",
    "    date = input(\"Enter date (YYYY-MM-DD): \")\n",
    "    amount = input(\"Enter payment amount: \")\n",
    "    payment_method = input(\"Enter payment method: \")\n",
    "\n",
    "    # Generate a unique receipt number (simplified using the current time)\n",
    "    receipt_number = f\"RECEIPT-{date.replace('-', '')}\"\n",
    "\n",
    "    # Create a PDF receipt\n",
    "    c = canvas.Canvas(\"receipt.pdf\", pagesize=letter)  # Create a PDF canvas\n",
    "    c.drawString(100, 750, \"Receipt Number: \" + receipt_number)  # Add receipt number\n",
    "    c.drawString(100, 730, \"Customer Name: \" + customer_name)  # Add customer name\n",
    "    c.drawString(100, 710, \"Date: \" + date)  # Add date\n",
    "    c.drawString(100, 690, \"Amount: $\" + amount)  # Add payment amount\n",
    "    c.drawString(100, 670, \"Payment Method: \" + payment_method)  # Add payment method\n",
    "    c.save()  # Save the PDF\n",
    "    \n",
    "    print(\"\\nReceipt Saved as 'receipt.pdf'\")\n",
    "\n",
    "if __name__ == \"__main__\":\n",
    "    generate_receipt()\n"
   ]
  },
  {
   "cell_type": "code",
   "execution_count": null,
   "id": "1af078fc",
   "metadata": {},
   "outputs": [],
   "source": []
  }
 ],
 "metadata": {
  "kernelspec": {
   "display_name": "Python 3 (ipykernel)",
   "language": "python",
   "name": "python3"
  },
  "language_info": {
   "codemirror_mode": {
    "name": "ipython",
    "version": 3
   },
   "file_extension": ".py",
   "mimetype": "text/x-python",
   "name": "python",
   "nbconvert_exporter": "python",
   "pygments_lexer": "ipython3",
   "version": "3.9.13"
  }
 },
 "nbformat": 4,
 "nbformat_minor": 5
}
